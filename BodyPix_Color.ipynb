# BodyPix Body-Part Segmentation & Coloring

This notebook uses Python 3.9 and `tf-bodypix` to segment body parts and overlay colored masks.

---

```python
# Install dependencies (if not pre-installed)
!pip install tf-bodypix[all] opencv-python matplotlib tensorflow

from tf_bodypix.api import download_model, load_model, BodyPixModelPaths
from PIL import Image
import numpy as np
import matplotlib.pyplot as plt
import cv2

# 1. Download & load BodyPix model
model = load_model(download_model(BodyPixModelPaths.MOBILENET_FLOAT_50_STRIDE_16))

# 2. Upload an image manually via Binder interface:
from google.colab import files  # Remove if not in Colab/Binder
# uploaded = files.upload()
# image_path = list(uploaded.keys())[0]

image_path = "your_image.jpg"  # replace after upload
image = cv2.cvtColor(cv2.imread(image_path), cv2.COLOR_BGR2RGB)

# 3. Run segmentation
result = model.predict_single(image)

# 4. Get binary mask and colored-part mask
mask = result.get_mask(threshold=0.75)
colored_mask = result.get_colored_part_mask(mask)

# 5. Overlay colored parts on original
overlay = ((0.5 * image) + (0.5 * colored_mask)).astype(np.uint8)

# Display result
plt.figure(figsize=(8,8))
plt.imshow(overlay)
plt.axis("off")

from tf_bodypix.api import download_model, load_model, BodyPixModelPaths
import cv2
import matplotlib.pyplot as plt

# Load the model
model = load_model(download_model(BodyPixModelPaths.MOBILENET_FLOAT_50_STRIDE_16))

# Load image (you can upload one in Binder)
image = cv2.cvtColor(cv2.imread("front_back.jpg"), cv2.COLOR_BGR2RGB)

# Predict and extract colored part mask
result = model.predict_single(image)
colored = result.get_colored_part_mask(result.get_mask(threshold=0.75))

plt.figure(figsize=(6,6))
plt.imshow(colored); plt.axis("off")
